{
  "nbformat": 4,
  "nbformat_minor": 0,
  "metadata": {
    "colab": {
      "name": "Topic Modeling.ipynb",
      "provenance": [],
      "collapsed_sections": []
    },
    "kernelspec": {
      "name": "python3",
      "display_name": "Python 3"
    },
    "language_info": {
      "name": "python"
    }
  },
  "cells": [
    {
      "cell_type": "code",
      "metadata": {
        "id": "FUEfjKr7VLZC"
      },
      "source": [
        "# Import Packages\n",
        "\n",
        "from bs4 import BeautifulSoup\n",
        "import requests\n",
        "import spacy\n",
        "from spacy.matcher import Matcher\n",
        "import re\n",
        "from collections import Counter\n",
        "from gensim import corpora\n",
        "\n",
        "nlp = spacy.load('en_core_web_sm')\n"
      ],
      "execution_count": null,
      "outputs": []
    },
    {
      "cell_type": "code",
      "metadata": {
        "id": "KgksnYcOVT4W"
      },
      "source": [
        "# Import Data(Corpus)\n",
        "\n",
        "url = 'https://www.tribunnews.com/metropolitan/2021/06/21/tekan-lonjakan-kasus-corona-wagub-dki-kebijakan-pengetatan-segera-diumumkan'\n",
        "req = requests.get(url)\n",
        "\n",
        "html = req.text\n",
        "soup = BeautifulSoup(html,'html.parser')\n",
        "text = soup.findAll('p')"
      ],
      "execution_count": null,
      "outputs": []
    },
    {
      "cell_type": "code",
      "metadata": {
        "id": "MwdoBpThVbs0"
      },
      "source": [
        "# Putting the text of each \"p tag\" into \"paragraphs\" list\n",
        "\n",
        "paragraphs = [ ]\n",
        "for x in text:\n",
        "    paragraphs.append(str(x.text))"
      ],
      "execution_count": null,
      "outputs": []
    },
    {
      "cell_type": "code",
      "metadata": {
        "id": "XbpBGsnZVg6l"
      },
      "source": [
        "# Puting all alphanumerics from each paragraphs into \"clean\" list  \n",
        "\n",
        "clean = [ ]\n",
        "for w in paragraphs[:]:\n",
        "    clean.append(re.findall(r'\\W',w))"
      ],
      "execution_count": null,
      "outputs": []
    },
    {
      "cell_type": "code",
      "metadata": {
        "colab": {
          "base_uri": "https://localhost:8080/"
        },
        "id": "CRHXihscVkSd",
        "outputId": "53d16251-861b-44ca-83c1-222c4b39cfe3"
      },
      "source": [
        "# Joining all alphanumerics from \"clean\" into \"joined\"\n",
        "\n",
        "joined = [ ]\n",
        "for alpha in clean:\n",
        "  # Convert each item in the list to a string, and then join them\n",
        "  joined.append(' '.join(map(str, alpha)))\n",
        "alljoined = ''.join(joined)\n",
        "\n",
        "# Removing all emty spaces from the \"alljoined\" string\n",
        "\n",
        "print(\"Emty spaces removed and joined from 'clean' list: \" + \"\\n\\n\" + alljoined.replace(\" \",\"\") + \"\\n\")\n",
        "\n",
        "# Cleaning each paragraphs with the \"clean\" list\n",
        "\n",
        "cleared = [ ]\n",
        "for item in paragraphs[:]:\n",
        "    for c in alljoined.replace(\" \",\"\"):\n",
        "        if c in item:\n",
        "            item = item.replace(c, \"\")\n",
        "    cleared.append(item) \n",
        "    \n",
        "# Clearing out empty items from the \"cleared\" list\n",
        "\n",
        "none_spaces = [item for item in cleared if item != '' and item !=' ']\n",
        "# Removing unnecessary paragraphs\n",
        "none_spaces.pop(9)\n",
        "none_spaces.pop(8)\n",
        "none_spaces.pop(7)\n",
        "\n",
        "print(\"Final result: \\n\\n \" + str(none_spaces))\n"
      ],
      "execution_count": null,
      "outputs": [
        {
          "output_type": "stream",
          "text": [
            "Emty spaces removed and joined from 'clean' list: \n",
            "\n",
            ".,.,-,-.-.\"-,.,,,,,-,\",(//).,-,,,().().:-,:.\",-,,,,,-,.,,,\".,-..,(//)...-.(/)...-.  \n",
            "\n",
            "Final result: \n",
            "\n",
            " ['Laporan wartawan tribunnewscom Danang Triatmojo', 'TRIBUNNEWSCOM JAKARTA  Gubernur DKI Jakarta Anies Baswedan segera mengumumkan kebijakan pengetatan di wilayah ibu kota menyusul laporan harian kasus Covid19 yang terus melambung', 'Wakil Gubernur DKI Ahmad Riza Patria mengaku Pemprov DKI saat ini masih terus berkoordinasi dengan pemerintah pusat terkait hal  hal pengetatan tersebut', 'Kami sudah diskusikan bahas terkait kebijakan tentang PPKM pengetatat dan lainlain akan segera diumumkan pak gubernur', 'Kita tunggu saja kami sedang terus berkoordinasi dengan pemerintah pusat bersabar sebentar tidak lama lagi Pemprov akan mengambil kebijakan dalam rangka pencegahan penanganan pengendalian Covid19 di wilayah DKI kata Riza kepada wartawan Senin 2162021', 'Selain mengkaji rencana penutupan tempat wisata Pemprov juga berkoordinasi terkait tempat  tempat lain seperti rumah ibadah mal pasar dan kebijakan kerja dari rumah WFH', 'Pemprov bersama jajaran Forum Komunikasi Pimpinan Daerah Forkopimda juga turut mendengar aspirasi dari ahli epidemiologi', 'Dari kami Pemprov bersama Forkopimda dan jajaran mendengarkan aspirasi dengan epidemiolog namun demikian nanti akan diumumkan oleh pak gubernur setelah nanti kita tuntaskan koordinasi dengan pemerintah pusat pungkasnya', 'Sebagai informasi laporan harian kasus positif Covid19 di DKI Jakarta terus melonjak selama satu pekan terakhir Bahkan angka tambahannya tembus 5582 kasus positif dalam sehari pada Minggu 2062021 atau jadi rekor tertinggi tambahan per hari', 'Sementara hari ini tambahan harian dilaporkan sebesar 5014 orang terkonfirmasi positif Corona', 'Adapun jumlah kasus aktif Covid19 di Jakarta naik 1918 kasus pada Senin 216 Sehingga jumlah kasus aktif hingga hari ini mencapai 32060 orang Artinya ada 32 ribu orang yang masih menjalani perawatan atau isolasi terkait kasus Covid19']\n"
          ],
          "name": "stdout"
        }
      ]
    },
    {
      "cell_type": "code",
      "metadata": {
        "id": "eduYbm2hW5FP"
      },
      "source": [
        "document = ''\n",
        "for t in none_spaces:\n",
        "    document += t.lower()"
      ],
      "execution_count": null,
      "outputs": []
    },
    {
      "cell_type": "code",
      "metadata": {
        "id": "ViyO6IPwW_1f"
      },
      "source": [
        "doc =nlp(document)\n",
        "nlp.Defaults.stop_words.add('the')\n",
        "nlp.Defaults.stop_words.add('by')\n",
        "nlp.Defaults.stop_words.add('that')\n",
        "nlp.Defaults.stop_words.add('That')\n",
        "nlp.Defaults.stop_words.add('The')\n",
        "nlp.Defaults.stop_words.add('All')"
      ],
      "execution_count": null,
      "outputs": []
    },
    {
      "cell_type": "code",
      "metadata": {
        "colab": {
          "base_uri": "https://localhost:8080/"
        },
        "id": "1Y1kgni9XGrv",
        "outputId": "68ae3014-2dd2-41ef-88bc-95f06f2c772e"
      },
      "source": [
        "from gensim.parsing.preprocessing import remove_stopwords\n",
        "from gensim import corpora\n",
        "from collections import defaultdict\n",
        "from gensim import models\n",
        "from gensim.utils import lemmatize\n",
        "\n",
        "\n",
        "paragraph_list = []\n",
        "# Removing stopwords from \"none_spaces\" list into \"paragraph_list\".\n",
        "for tx in none_spaces:\n",
        "    clear_stop_words = remove_stopwords(tx.lower())\n",
        "    token_paragraph =  nlp(clear_stop_words)\n",
        "    text = []\n",
        "    for token in token_paragraph:\n",
        "        text.append(token.lemma_)\n",
        "    paragraph_list.append(text)\n",
        "    \n",
        "frequency = defaultdict(int)\n",
        "for text in paragraph_list:\n",
        "    for token in text:\n",
        "        frequency[token] += 1\n",
        "\n",
        "processed_corpus = [[token for token in text if frequency[token] > 1] for text in paragraph_list]\n",
        "\n",
        "print(processed_corpus)"
      ],
      "execution_count": null,
      "outputs": [
        {
          "output_type": "stream",
          "text": [
            "[['laporan', 'wartawan', 'tribunnewscom'], ['tribunnewscom', 'jakarta', 'gubernur', 'dki', 'jakarta', 'segera', 'kebijakan', 'pengetatan', 'di', 'wilayah', 'laporan', 'harian', 'kasus', 'covid19', 'yang', 'terus'], ['gubernur', 'dki', 'riza', 'pemprov', 'dki', 'ini', 'masih', 'terus', 'berkoordinasi', 'dengan', 'pemerintah', 'pusat', 'terkait', 'hal', 'hal', 'pengetatan'], ['kami', 'terkait', 'kebijakan', 'dan', 'akan', 'segera', 'diumumkan', 'pak', 'gubernur'], ['kita', 'kami', 'terus', 'berkoordinasi', 'dengan', 'pemerintah', 'pusat', 'pemprov', 'akan', 'kebijakan', 'dalam', 'covid19', 'di', 'wilayah', 'dki', 'riza', 'wartawan', 'senin'], ['tempat', 'pemprov', 'juga', 'berkoordinasi', 'terkait', 'tempat', 'tempat', 'rumah', 'dan', 'kebijakan', 'dari', 'rumah'], ['pemprov', 'bersama', 'jajaran', 'forkopimda', 'juga', 'aspirasi', 'dari'], ['dari', 'kami', 'pemprov', 'bersama', 'forkopimda', 'dan', 'jajaran', 'aspirasi', 'dengan', 'nanti', 'akan', 'diumumkan', 'pak', 'gubernur', 'nanti', 'kita', 'dengan', 'pemerintah', 'pusat'], ['laporan', 'harian', 'kasus', 'positif', 'covid19', 'di', 'dki', 'jakarta', 'terus', 'kasus', 'positif', 'dalam', 'pada', 'atau', 'tambahan', 'hari'], ['hari', 'ini', 'tambahan', 'harian', 'orang', 'positif'], ['jumlah', 'kasus', 'aktif', 'covid19', 'di', 'jakarta', 'kasus', 'pada', 'senin', 'jumlah', 'kasus', 'aktif', 'hari', 'ini', 'orang', 'orang', 'yang', 'masih', 'atau', 'terkait', 'kasus', 'covid19']]\n"
          ],
          "name": "stdout"
        }
      ]
    },
    {
      "cell_type": "code",
      "metadata": {
        "colab": {
          "base_uri": "https://localhost:8080/"
        },
        "id": "ta9vtv9FXQQn",
        "outputId": "fa9cc233-70fd-4429-cbd7-6ee036f744cb"
      },
      "source": [
        "# Creating the dictionary for further use\n",
        "dictionary = corpora.Dictionary(processed_corpus)\n",
        "print(dictionary.token2id)"
      ],
      "execution_count": null,
      "outputs": [
        {
          "output_type": "stream",
          "text": [
            "{'laporan': 0, 'tribunnewscom': 1, 'wartawan': 2, 'covid19': 3, 'di': 4, 'dki': 5, 'gubernur': 6, 'harian': 7, 'jakarta': 8, 'kasus': 9, 'kebijakan': 10, 'pengetatan': 11, 'segera': 12, 'terus': 13, 'wilayah': 14, 'yang': 15, 'berkoordinasi': 16, 'dengan': 17, 'hal': 18, 'ini': 19, 'masih': 20, 'pemerintah': 21, 'pemprov': 22, 'pusat': 23, 'riza': 24, 'terkait': 25, 'akan': 26, 'dan': 27, 'diumumkan': 28, 'kami': 29, 'pak': 30, 'dalam': 31, 'kita': 32, 'senin': 33, 'dari': 34, 'juga': 35, 'rumah': 36, 'tempat': 37, 'aspirasi': 38, 'bersama': 39, 'forkopimda': 40, 'jajaran': 41, 'nanti': 42, 'atau': 43, 'hari': 44, 'pada': 45, 'positif': 46, 'tambahan': 47, 'orang': 48, 'aktif': 49, 'jumlah': 50}\n"
          ],
          "name": "stdout"
        }
      ]
    },
    {
      "cell_type": "code",
      "metadata": {
        "id": "fZGYXN9yXVOL"
      },
      "source": [
        "# Bow = bags of words\n",
        "bow_corpus = [dictionary.doc2bow(text) for text in processed_corpus]"
      ],
      "execution_count": null,
      "outputs": []
    },
    {
      "cell_type": "code",
      "metadata": {
        "id": "rSPArJ_iXfmD"
      },
      "source": [
        "# Calculating  words frequency\n",
        "# TFIDF = Term Frequency Inverse Document Frequency\n",
        "tfidf = models.TfidfModel(bow_corpus)\n",
        "\n",
        "# Split the document string\n",
        "words = document.split()"
      ],
      "execution_count": null,
      "outputs": []
    },
    {
      "cell_type": "code",
      "metadata": {
        "colab": {
          "base_uri": "https://localhost:8080/",
          "height": 332
        },
        "id": "SRBHmAv0Xkn7",
        "outputId": "a7628b3a-8293-499e-e16d-3bf0cac111f3"
      },
      "source": [
        "import matplotlib.pyplot as plt\n",
        "tfidf_weighing = tfidf[dictionary.doc2bow(words)]\n",
        "# Zipped_list =list(zip(*testList2))\n",
        "\n",
        "# Creating parameters for the plot model\n",
        "x_values = []\n",
        "y_values = []\n",
        "for item in tfidf_weighing[:]:\n",
        "    value = list(item)\n",
        "    x_values.append(value[0])\n",
        "    y_values.append(value[1])\n",
        "plot_topics = [] \n",
        "# Creating the labels for axis [covid19, jakarta...]\n",
        "for k in dictionary.token2id:\n",
        "    plot_topics.append(k)\n",
        "# Designing the plot    \n",
        "plt.xticks(range(51), plot_topics ,rotation='vertical')\n",
        "plt.plot(x_values,y_values)\n",
        "plt.show()"
      ],
      "execution_count": null,
      "outputs": [
        {
          "output_type": "display_data",
          "data": {
            "image/png": "[encoded data removed]",
            "text/plain": [
              "<Figure size 432x288 with 1 Axes>"
            ]
          },
          "metadata": {
            "tags": [],
            "needs_background": "light"
          }
        }
      ]
    },
    {
      "cell_type": "code",
      "metadata": {
        "colab": {
          "base_uri": "https://localhost:8080/"
        },
        "id": "jlDOwofxXwqY",
        "outputId": "12e7f27d-a6e4-4614-f7e8-41ce8ac0a218"
      },
      "source": [
        "from gensim.models.ldamodel import LdaModel\n",
        "\n",
        "lda_model = LdaModel(corpus=bow_corpus, id2word=dictionary,  num_topics=5)\n",
        "print(lda_model.show_topics())"
      ],
      "execution_count": null,
      "outputs": [
        {
          "output_type": "stream",
          "text": [
            "[(0, '0.062*\"terkait\" + 0.062*\"akan\" + 0.062*\"gubernur\" + 0.062*\"kebijakan\" + 0.062*\"kami\" + 0.062*\"pak\" + 0.062*\"dan\" + 0.062*\"segera\" + 0.062*\"diumumkan\" + 0.011*\"pemprov\"'), (1, '0.128*\"kasus\" + 0.066*\"covid19\" + 0.046*\"orang\" + 0.046*\"hari\" + 0.046*\"di\" + 0.046*\"jakarta\" + 0.046*\"pada\" + 0.046*\"aktif\" + 0.046*\"jumlah\" + 0.046*\"atau\"'), (2, '0.074*\"harian\" + 0.074*\"hari\" + 0.074*\"positif\" + 0.074*\"tambahan\" + 0.074*\"orang\" + 0.074*\"ini\" + 0.013*\"kebijakan\" + 0.012*\"laporan\" + 0.012*\"tribunnewscom\" + 0.012*\"wartawan\"'), (3, '0.062*\"pemprov\" + 0.053*\"tempat\" + 0.045*\"dari\" + 0.037*\"wartawan\" + 0.036*\"berkoordinasi\" + 0.036*\"juga\" + 0.036*\"rumah\" + 0.036*\"kebijakan\" + 0.036*\"dengan\" + 0.030*\"forkopimda\"'), (4, '0.062*\"dki\" + 0.053*\"gubernur\" + 0.044*\"dengan\" + 0.043*\"terus\" + 0.043*\"jakarta\" + 0.043*\"pengetatan\" + 0.043*\"hal\" + 0.033*\"pemprov\" + 0.032*\"pusat\" + 0.031*\"pemerintah\"')]\n"
          ],
          "name": "stdout"
        }
      ]
    },
    {
      "cell_type": "code",
      "metadata": {
        "colab": {
          "base_uri": "https://localhost:8080/"
        },
        "id": "9QyJzVw8YYIe",
        "outputId": "1ba41aee-fb06-4919-9b49-3965696a0254"
      },
      "source": [
        "# Calculating the efficiency for the LDA model with c_v measure\n",
        "from gensim.models.coherencemodel import CoherenceModel\n",
        "\n",
        "coherence_model_lda = CoherenceModel(model=lda_model, texts=processed_corpus, dictionary=dictionary, coherence='c_v')\n",
        "coherence_lda = coherence_model_lda.get_coherence()\n",
        "print('\\nCoherence Score: ', coherence_lda)"
      ],
      "execution_count": null,
      "outputs": [
        {
          "output_type": "stream",
          "text": [
            "\n",
            "Coherence Score:  0.3911430292270916\n"
          ],
          "name": "stdout"
        }
      ]
    }
  ]
}