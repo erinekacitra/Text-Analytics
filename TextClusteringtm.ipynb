{
  "nbformat": 4,
  "nbformat_minor": 0,
  "metadata": {
    "colab": {
      "name": "TextClusteringtm.ipynb",
      "provenance": [],
      "collapsed_sections": []
    },
    "kernelspec": {
      "name": "python3",
      "display_name": "Python 3"
    },
    "language_info": {
      "name": "python"
    }
  },
  "cells": [
    {
      "cell_type": "code",
      "metadata": {
        "id": "KujiiUn-98l0"
      },
      "source": [
        "# Import Packages & Data(Corpus)\n",
        "import pandas as pd\n",
        "df = pd.read_csv(\"Movies_Dataset.csv\")"
      ],
      "execution_count": 3,
      "outputs": []
    },
    {
      "cell_type": "code",
      "metadata": {
        "colab": {
          "base_uri": "https://localhost:8080/",
          "height": 206
        },
        "id": "jrYTm8nM9-e-",
        "outputId": "3bbbeacb-0e52-43e9-c294-5ded41e5370a"
      },
      "source": [
        "df.head()"
      ],
      "execution_count": 4,
      "outputs": [
        {
          "output_type": "execute_result",
          "data": {
            "text/html": [
              "<div>\n",
              "<style scoped>\n",
              "    .dataframe tbody tr th:only-of-type {\n",
              "        vertical-align: middle;\n",
              "    }\n",
              "\n",
              "    .dataframe tbody tr th {\n",
              "        vertical-align: top;\n",
              "    }\n",
              "\n",
              "    .dataframe thead th {\n",
              "        text-align: right;\n",
              "    }\n",
              "</style>\n",
              "<table border=\"1\" class=\"dataframe\">\n",
              "  <thead>\n",
              "    <tr style=\"text-align: right;\">\n",
              "      <th></th>\n",
              "      <th>id</th>\n",
              "      <th>title</th>\n",
              "      <th>overview</th>\n",
              "    </tr>\n",
              "  </thead>\n",
              "  <tbody>\n",
              "    <tr>\n",
              "      <th>0</th>\n",
              "      <td>0</td>\n",
              "      <td>Toy Story</td>\n",
              "      <td>Led by Woody, Andy's toys live happily in his ...</td>\n",
              "    </tr>\n",
              "    <tr>\n",
              "      <th>1</th>\n",
              "      <td>1</td>\n",
              "      <td>Jumanji</td>\n",
              "      <td>When siblings Judy and Peter discover an encha...</td>\n",
              "    </tr>\n",
              "    <tr>\n",
              "      <th>2</th>\n",
              "      <td>2</td>\n",
              "      <td>Grumpier Old Men</td>\n",
              "      <td>A family wedding reignites the ancient feud be...</td>\n",
              "    </tr>\n",
              "    <tr>\n",
              "      <th>3</th>\n",
              "      <td>3</td>\n",
              "      <td>Waiting to Exhale</td>\n",
              "      <td>Cheated on, mistreated and stepped on, the wom...</td>\n",
              "    </tr>\n",
              "    <tr>\n",
              "      <th>4</th>\n",
              "      <td>4</td>\n",
              "      <td>Father of the Bride Part II</td>\n",
              "      <td>Just when George Banks has recovered from his ...</td>\n",
              "    </tr>\n",
              "  </tbody>\n",
              "</table>\n",
              "</div>"
            ],
            "text/plain": [
              "   id  ...                                           overview\n",
              "0   0  ...  Led by Woody, Andy's toys live happily in his ...\n",
              "1   1  ...  When siblings Judy and Peter discover an encha...\n",
              "2   2  ...  A family wedding reignites the ancient feud be...\n",
              "3   3  ...  Cheated on, mistreated and stepped on, the wom...\n",
              "4   4  ...  Just when George Banks has recovered from his ...\n",
              "\n",
              "[5 rows x 3 columns]"
            ]
          },
          "metadata": {
            "tags": []
          },
          "execution_count": 4
        }
      ]
    },
    {
      "cell_type": "code",
      "metadata": {
        "colab": {
          "base_uri": "https://localhost:8080/"
        },
        "id": "bWIURP6I-FbL",
        "outputId": "eb8697b6-6eb3-4969-eb43-d344924160d4"
      },
      "source": [
        "# Explore Data\n",
        "df.info()"
      ],
      "execution_count": 5,
      "outputs": [
        {
          "output_type": "stream",
          "text": [
            "<class 'pandas.core.frame.DataFrame'>\n",
            "RangeIndex: 45466 entries, 0 to 45465\n",
            "Data columns (total 3 columns):\n",
            " #   Column    Non-Null Count  Dtype \n",
            "---  ------    --------------  ----- \n",
            " 0   id        45466 non-null  int64 \n",
            " 1   title     45460 non-null  object\n",
            " 2   overview  44507 non-null  object\n",
            "dtypes: int64(1), object(2)\n",
            "memory usage: 1.0+ MB\n"
          ],
          "name": "stdout"
        }
      ]
    },
    {
      "cell_type": "code",
      "metadata": {
        "id": "HES_VNp3-Hg1"
      },
      "source": [
        "# Data preprocessing\n",
        "from sklearn.feature_extraction.text import TfidfVectorizer\n",
        "from sklearn.cluster import KMeans"
      ],
      "execution_count": 6,
      "outputs": []
    },
    {
      "cell_type": "code",
      "metadata": {
        "id": "0r0YyNOw-Msb"
      },
      "source": [
        "documents = df['overview'].values.astype(\"U\")"
      ],
      "execution_count": 7,
      "outputs": []
    },
    {
      "cell_type": "code",
      "metadata": {
        "id": "-ISo75dG-PjY"
      },
      "source": [
        "vectorizer = TfidfVectorizer(stop_words='english')\n",
        "features = vectorizer.fit_transform(documents)"
      ],
      "execution_count": 8,
      "outputs": []
    },
    {
      "cell_type": "code",
      "metadata": {
        "colab": {
          "base_uri": "https://localhost:8080/"
        },
        "id": "34JE5MfG-Rir",
        "outputId": "48b034ae-7582-42e0-df58-f0fafda0949c"
      },
      "source": [
        "# Running Kmeans\n",
        "k = 10\n",
        "model = KMeans(n_clusters=k, init='k-means++', max_iter=100, n_init=1)\n",
        "model.fit(features)"
      ],
      "execution_count": 9,
      "outputs": [
        {
          "output_type": "execute_result",
          "data": {
            "text/plain": [
              "KMeans(algorithm='auto', copy_x=True, init='k-means++', max_iter=100,\n",
              "       n_clusters=10, n_init=1, n_jobs=None, precompute_distances='auto',\n",
              "       random_state=None, tol=0.0001, verbose=0)"
            ]
          },
          "metadata": {
            "tags": []
          },
          "execution_count": 9
        }
      ]
    },
    {
      "cell_type": "code",
      "metadata": {
        "id": "Qj543Isz-Te0"
      },
      "source": [
        "# Cluster Analysis\n",
        "df['cluster'] = model.labels_"
      ],
      "execution_count": 10,
      "outputs": []
    },
    {
      "cell_type": "code",
      "metadata": {
        "colab": {
          "base_uri": "https://localhost:8080/",
          "height": 206
        },
        "id": "0Go7scOU-WZC",
        "outputId": "a23e0212-b8b3-4160-d448-4748e745442a"
      },
      "source": [
        "df.head()"
      ],
      "execution_count": 11,
      "outputs": [
        {
          "output_type": "execute_result",
          "data": {
            "text/html": [
              "<div>\n",
              "<style scoped>\n",
              "    .dataframe tbody tr th:only-of-type {\n",
              "        vertical-align: middle;\n",
              "    }\n",
              "\n",
              "    .dataframe tbody tr th {\n",
              "        vertical-align: top;\n",
              "    }\n",
              "\n",
              "    .dataframe thead th {\n",
              "        text-align: right;\n",
              "    }\n",
              "</style>\n",
              "<table border=\"1\" class=\"dataframe\">\n",
              "  <thead>\n",
              "    <tr style=\"text-align: right;\">\n",
              "      <th></th>\n",
              "      <th>id</th>\n",
              "      <th>title</th>\n",
              "      <th>overview</th>\n",
              "      <th>cluster</th>\n",
              "    </tr>\n",
              "  </thead>\n",
              "  <tbody>\n",
              "    <tr>\n",
              "      <th>0</th>\n",
              "      <td>0</td>\n",
              "      <td>Toy Story</td>\n",
              "      <td>Led by Woody, Andy's toys live happily in his ...</td>\n",
              "      <td>1</td>\n",
              "    </tr>\n",
              "    <tr>\n",
              "      <th>1</th>\n",
              "      <td>1</td>\n",
              "      <td>Jumanji</td>\n",
              "      <td>When siblings Judy and Peter discover an encha...</td>\n",
              "      <td>1</td>\n",
              "    </tr>\n",
              "    <tr>\n",
              "      <th>2</th>\n",
              "      <td>2</td>\n",
              "      <td>Grumpier Old Men</td>\n",
              "      <td>A family wedding reignites the ancient feud be...</td>\n",
              "      <td>3</td>\n",
              "    </tr>\n",
              "    <tr>\n",
              "      <th>3</th>\n",
              "      <td>3</td>\n",
              "      <td>Waiting to Exhale</td>\n",
              "      <td>Cheated on, mistreated and stepped on, the wom...</td>\n",
              "      <td>9</td>\n",
              "    </tr>\n",
              "    <tr>\n",
              "      <th>4</th>\n",
              "      <td>4</td>\n",
              "      <td>Father of the Bride Part II</td>\n",
              "      <td>Just when George Banks has recovered from his ...</td>\n",
              "      <td>1</td>\n",
              "    </tr>\n",
              "  </tbody>\n",
              "</table>\n",
              "</div>"
            ],
            "text/plain": [
              "   id  ... cluster\n",
              "0   0  ...       1\n",
              "1   1  ...       1\n",
              "2   2  ...       3\n",
              "3   3  ...       9\n",
              "4   4  ...       1\n",
              "\n",
              "[5 rows x 4 columns]"
            ]
          },
          "metadata": {
            "tags": []
          },
          "execution_count": 11
        }
      ]
    },
    {
      "cell_type": "code",
      "metadata": {
        "id": "CmUdYv4k-aGo"
      },
      "source": [
        "# Output the result to a text file.\n",
        "\n",
        "clusters = df.groupby('cluster')    \n",
        "\n",
        "for cluster in clusters.groups:\n",
        "    f = open('cluster'+str(cluster)+ '.csv', 'w') # create csv file\n",
        "    data = clusters.get_group(cluster)[['title','overview']] # get title and overview columns\n",
        "    f.write(data.to_csv(index_label='id')) # set index to id\n",
        "    f.close()"
      ],
      "execution_count": 12,
      "outputs": []
    },
    {
      "cell_type": "code",
      "metadata": {
        "colab": {
          "base_uri": "https://localhost:8080/"
        },
        "id": "wWaU58up-e_6",
        "outputId": "e073da39-a029-40c0-ac36-e9ca7d42b13e"
      },
      "source": [
        "print(\"Cluster centroids: \\n\")\n",
        "order_centroids = model.cluster_centers_.argsort()[:, ::-1]\n",
        "terms = vectorizer.get_feature_names()\n",
        "\n",
        "for i in range(k):\n",
        "    print(\"Cluster %d:\" % i)\n",
        "    for j in order_centroids[i, :10]: #print out 10 feature terms of each cluster\n",
        "        print (' %s' % terms[j])\n",
        "    print('------------')"
      ],
      "execution_count": 41,
      "outputs": [
        {
          "output_type": "stream",
          "text": [
            "Cluster centroids: \n",
            "\n",
            "Cluster 0:\n",
            " police\n",
            " murder\n",
            " killer\n",
            " detective\n",
            " serial\n",
            " cop\n",
            " case\n",
            " officer\n",
            " crime\n",
            " young\n",
            "------------\n",
            "Cluster 1:\n",
            " life\n",
            " new\n",
            " world\n",
            " young\n",
            " story\n",
            " time\n",
            " group\n",
            " overview\n",
            " years\n",
            " friends\n",
            "------------\n",
            "Cluster 2:\n",
            " film\n",
            " documentary\n",
            " story\n",
            " director\n",
            " life\n",
            " directed\n",
            " feature\n",
            " based\n",
            " movie\n",
            " world\n",
            "------------\n",
            "Cluster 3:\n",
            " family\n",
            " life\n",
            " father\n",
            " home\n",
            " mother\n",
            " son\n",
            " new\n",
            " young\n",
            " old\n",
            " man\n",
            "------------\n",
            "Cluster 4:\n",
            " love\n",
            " woman\n",
            " young\n",
            " falls\n",
            " life\n",
            " story\n",
            " husband\n",
            " girl\n",
            " fall\n",
            " new\n",
            "------------\n",
            "Cluster 5:\n",
            " nan\n",
            " ݣ1890\n",
            " frazier\n",
            " fraw\n",
            " fray\n",
            " frayed\n",
            " fraying\n",
            " frayn\n",
            " frazer\n",
            " frazzled\n",
            "------------\n",
            "Cluster 6:\n",
            " war\n",
            " world\n",
            " ii\n",
            " civil\n",
            " american\n",
            " soldiers\n",
            " story\n",
            " german\n",
            " army\n",
            " soldier\n",
            "------------\n",
            "Cluster 7:\n",
            " school\n",
            " old\n",
            " year\n",
            " high\n",
            " girl\n",
            " life\n",
            " new\n",
            " teacher\n",
            " boy\n",
            " students\n",
            "------------\n",
            "Cluster 8:\n",
            " town\n",
            " small\n",
            " new\n",
            " local\n",
            " sheriff\n",
            " young\n",
            " life\n",
            " girl\n",
            " man\n",
            " family\n",
            "------------\n",
            "Cluster 9:\n",
            " man\n",
            " young\n",
            " life\n",
            " woman\n",
            " wife\n",
            " story\n",
            " finds\n",
            " old\n",
            " father\n",
            " new\n",
            "------------\n"
          ],
          "name": "stdout"
        }
      ]
    }
  ]
}